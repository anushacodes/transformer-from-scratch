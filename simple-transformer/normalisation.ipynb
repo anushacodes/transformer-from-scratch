{
 "cells": [
  {
   "cell_type": "markdown",
   "metadata": {},
   "source": [
    "Part 4: Normalisation and feed forward"
   ]
  },
  {
   "cell_type": "code",
   "execution_count": 5,
   "metadata": {},
   "outputs": [
    {
     "name": "stdout",
     "output_type": "stream",
     "text": [
      "Using device: mps\n"
     ]
    }
   ],
   "source": [
    "import torch\n",
    "import torch.nn as nn\n",
    "import torch.nn.functional as F\n",
    "\n",
    "import numpy as np\n",
    "\n",
    "device = torch.device(\"mps\") if torch.backends.mps.is_available() else \"cpu\"\n",
    "print(f\"Using device: {device}\")\n",
    "\n",
    "batch_size = 1\n",
    "vocab_size = 6           # max_seq_len\n",
    "embedding_size = 8       # d_model\n",
    "\n",
    "torch.manual_seed(132)\n",
    "x = torch.randn(batch_size, vocab_size, embedding_size)\n"
   ]
  },
  {
   "cell_type": "code",
   "execution_count": 6,
   "metadata": {},
   "outputs": [
    {
     "data": {
      "text/plain": [
       "tensor([[[ 0.5628, -0.0576, -0.8741,  0.0612, -0.1741,  2.1812,  0.1573,\n",
       "          -1.4425],\n",
       "         [ 2.1285,  0.3479,  0.9685,  0.8488,  0.5011,  0.9357,  0.4584,\n",
       "           1.2065],\n",
       "         [-0.7349, -0.9706, -1.2097,  1.6960,  1.4241, -0.5467, -0.4898,\n",
       "          -1.6538],\n",
       "         [ 1.0423,  0.6688, -1.0684,  0.2520, -1.9652,  0.3251, -0.2690,\n",
       "          -1.0828],\n",
       "         [ 0.1590,  1.0780, -1.4566, -0.8454, -0.1251,  2.0603,  0.7509,\n",
       "           0.0553],\n",
       "         [ 0.8920,  0.7346, -1.5393,  0.7653, -0.4533,  2.4488, -0.5876,\n",
       "          -1.3040]]])"
      ]
     },
     "execution_count": 6,
     "metadata": {},
     "output_type": "execute_result"
    }
   ],
   "source": [
    "x"
   ]
  },
  {
   "cell_type": "code",
   "execution_count": null,
   "metadata": {},
   "outputs": [
    {
     "name": "stdout",
     "output_type": "stream",
     "text": [
      "tensor([[[ 0.4792, -0.1026, -0.8682,  0.0088, -0.2118,  1.9969,  0.0989,\n",
      "          -1.4013],\n",
      "         [ 2.1163, -1.0133,  0.0774, -0.1328, -0.7441,  0.0198, -0.8191,\n",
      "           0.4958],\n",
      "         [-0.3489, -0.5427, -0.7393,  1.6502,  1.4265, -0.1941, -0.1473,\n",
      "          -1.1045],\n",
      "         [ 1.2686,  0.9054, -0.7841,  0.5000, -1.6562,  0.5711, -0.0067,\n",
      "          -0.7981],\n",
      "         [-0.0459,  0.7881, -1.5120, -0.9574, -0.3037,  1.6796,  0.4913,\n",
      "          -0.1400],\n",
      "         [ 0.5798,  0.4616, -1.2452,  0.4847, -0.4300,  1.7484, -0.5308,\n",
      "          -1.0685]]])\n"
     ]
    }
   ],
   "source": [
    "\n",
    "mean = x.mean(dim=-1, keepdim=True)  # Compute mean over last dimension\n",
    "std = x.std(dim=-1, keepdim=True)    # Compute standard deviation\n",
    "\n",
    "gamma = torch.ones_like(mean)  \n",
    "beta = torch.zeros_like(mean)  \n",
    "\n",
    "result = gamma * (x - mean) / (std) + beta\n",
    "\n",
    "print(result)\n"
   ]
  },
  {
   "cell_type": "code",
   "execution_count": 9,
   "metadata": {},
   "outputs": [],
   "source": [
    "d_model = 8\n",
    "d_ff = 16\n",
    "\n",
    "w1 = torch.randn(d_model, d_ff)\n",
    "b1 = torch.randn(d_ff)\n",
    "w2 = torch.randn(d_ff, d_model)\n",
    "b2 = torch.randn(d_model)"
   ]
  },
  {
   "cell_type": "code",
   "execution_count": 10,
   "metadata": {},
   "outputs": [],
   "source": [
    "\n",
    "x = F.relu(torch.matmul(x, w1) + b1)  # First linear layer + ReLU\n",
    "x = torch.matmul(x, w2) + b2  # Second linear layer\n",
    "\n",
    "\n"
   ]
  },
  {
   "cell_type": "code",
   "execution_count": 12,
   "metadata": {},
   "outputs": [
    {
     "data": {
      "text/plain": [
       "torch.Size([1, 6, 8])"
      ]
     },
     "execution_count": 12,
     "metadata": {},
     "output_type": "execute_result"
    }
   ],
   "source": [
    "x.size()"
   ]
  },
  {
   "cell_type": "code",
   "execution_count": null,
   "metadata": {},
   "outputs": [],
   "source": []
  }
 ],
 "metadata": {
  "kernelspec": {
   "display_name": "jupyterenv",
   "language": "python",
   "name": "python3"
  },
  "language_info": {
   "codemirror_mode": {
    "name": "ipython",
    "version": 3
   },
   "file_extension": ".py",
   "mimetype": "text/x-python",
   "name": "python",
   "nbconvert_exporter": "python",
   "pygments_lexer": "ipython3",
   "version": "3.11.8"
  }
 },
 "nbformat": 4,
 "nbformat_minor": 2
}
